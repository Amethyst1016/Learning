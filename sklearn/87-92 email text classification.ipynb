{
 "cells": [
  {
   "cell_type": "markdown",
   "id": "9ccc97d3",
   "metadata": {},
   "source": [
    "### 87 load email data"
   ]
  },
  {
   "cell_type": "code",
   "execution_count": 5,
   "id": "eb45a57c",
   "metadata": {},
   "outputs": [],
   "source": [
    "import numpy as np\n",
    "import pandas as pd\n",
    "data_train = pd.read_csv('email_data_train.csv')\n",
    "target_train = pd.reda_csv('email_target_train.csv')\n",
    "data_train.columns # a col named 'text'\n",
    "data_train['text'][1]\n",
    "target_train.columns # a col named 'target'\n",
    "target_train['text'][1]"
   ]
  },
  {
   "cell_type": "markdown",
   "id": "b663bfe2",
   "metadata": {},
   "source": [
    "### 88 change data to list"
   ]
  },
  {
   "cell_type": "code",
   "execution_count": null,
   "id": "71466fcc",
   "metadata": {},
   "outputs": [],
   "source": [
    "data_train = data_train['text'].tolist()\n",
    "len(data_train)\n",
    "target_train = target_train['target'].tolist()\n",
    "len(target_train)"
   ]
  },
  {
   "cell_type": "markdown",
   "id": "1eecae9d",
   "metadata": {},
   "source": [
    "### 89 CountVectorizer (bag of words)"
   ]
  },
  {
   "cell_type": "code",
   "execution_count": null,
   "id": "5986b9a6",
   "metadata": {},
   "outputs": [],
   "source": [
    "from sklearn.feature_extraction.txt import CounterVectorizer\n",
    "vectorizer = CounterVectorizer()\n",
    "data_train_vectorized = vectorizer.fit_transform(data_train)\n",
    "# data_train_vectorized.shape[1] = len(vectorizer.get_feature_names_out())"
   ]
  },
  {
   "cell_type": "markdown",
   "id": "2c426c6d",
   "metadata": {},
   "source": [
    "### 90 naive bayes classifier, multinomial NB"
   ]
  },
  {
   "cell_type": "code",
   "execution_count": null,
   "id": "074aaecc",
   "metadata": {},
   "outputs": [],
   "source": [
    "from sklearn.naive_bayes import MultinomialNB\n",
    "classifier = MultinomialNB()\n",
    "classifier.fit(data_train_vectorized, target_train)\n",
    "docs = ['xxxx']\n",
    "data_new = vectorizer.transform(docs) # docs is new text input\n",
    "data_pred = classifier.predict(data_new)"
   ]
  },
  {
   "cell_type": "markdown",
   "id": "7c1ab096",
   "metadata": {},
   "source": [
    "### 91 TFIDF vectorizer"
   ]
  },
  {
   "cell_type": "code",
   "execution_count": null,
   "id": "73109c6b",
   "metadata": {},
   "outputs": [],
   "source": [
    "from sklearn.feature_extraction.text import TfidfVectorizer\n",
    "vectorizer = TfidfVectorizer()\n",
    "data_trained_vectorized = vectorizer.fit_transform(data_train)\n",
    "data_trained_vectorized.shape\n",
    "\n",
    "data_trained_vectorized[1].todense()\n",
    "vectorizer.get_feature_names()"
   ]
  },
  {
   "cell_type": "markdown",
   "id": "d28b6805",
   "metadata": {},
   "source": [
    "### 92 naive bayes & TFIDF"
   ]
  },
  {
   "cell_type": "code",
   "execution_count": null,
   "id": "e7fc45bc",
   "metadata": {},
   "outputs": [],
   "source": [
    "from sklearn.naive_bayes import MultinomialNB\n",
    "classifier = MultinomialNB()\n",
    "classifier.fit(data_train_vectorized, target_train)\n",
    "docs = ['xxxx']\n",
    "data_new = vectorizer.transform(docs) # the vevtorizer here is TFIDF\n",
    "data_pred = classifier.predict(data_new)"
   ]
  },
  {
   "cell_type": "code",
   "execution_count": null,
   "id": "b333857e",
   "metadata": {},
   "outputs": [],
   "source": []
  }
 ],
 "metadata": {
  "kernelspec": {
   "display_name": "Python 3 (ipykernel)",
   "language": "python",
   "name": "python3"
  },
  "language_info": {
   "codemirror_mode": {
    "name": "ipython",
    "version": 3
   },
   "file_extension": ".py",
   "mimetype": "text/x-python",
   "name": "python",
   "nbconvert_exporter": "python",
   "pygments_lexer": "ipython3",
   "version": "3.9.12"
  }
 },
 "nbformat": 4,
 "nbformat_minor": 5
}
