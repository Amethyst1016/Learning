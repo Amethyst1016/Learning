{
 "cells": [
  {
   "cell_type": "markdown",
   "id": "08cffcf8",
   "metadata": {},
   "source": [
    "### 67 PCA (principal components analysis)"
   ]
  },
  {
   "cell_type": "code",
   "execution_count": 1,
   "id": "02e37f46",
   "metadata": {},
   "outputs": [
    {
     "data": {
      "text/html": [
       "<div>\n",
       "<style scoped>\n",
       "    .dataframe tbody tr th:only-of-type {\n",
       "        vertical-align: middle;\n",
       "    }\n",
       "\n",
       "    .dataframe tbody tr th {\n",
       "        vertical-align: top;\n",
       "    }\n",
       "\n",
       "    .dataframe thead th {\n",
       "        text-align: right;\n",
       "    }\n",
       "</style>\n",
       "<table border=\"1\" class=\"dataframe\">\n",
       "  <thead>\n",
       "    <tr style=\"text-align: right;\">\n",
       "      <th></th>\n",
       "      <th>var1</th>\n",
       "      <th>var2</th>\n",
       "      <th>var3</th>\n",
       "      <th>class</th>\n",
       "    </tr>\n",
       "  </thead>\n",
       "  <tbody>\n",
       "    <tr>\n",
       "      <th>0</th>\n",
       "      <td>5.1</td>\n",
       "      <td>1.4</td>\n",
       "      <td>0.2</td>\n",
       "      <td>0.0</td>\n",
       "    </tr>\n",
       "    <tr>\n",
       "      <th>1</th>\n",
       "      <td>4.9</td>\n",
       "      <td>1.4</td>\n",
       "      <td>0.2</td>\n",
       "      <td>0.0</td>\n",
       "    </tr>\n",
       "    <tr>\n",
       "      <th>2</th>\n",
       "      <td>4.7</td>\n",
       "      <td>1.3</td>\n",
       "      <td>0.2</td>\n",
       "      <td>0.0</td>\n",
       "    </tr>\n",
       "    <tr>\n",
       "      <th>3</th>\n",
       "      <td>4.6</td>\n",
       "      <td>1.5</td>\n",
       "      <td>0.2</td>\n",
       "      <td>0.0</td>\n",
       "    </tr>\n",
       "    <tr>\n",
       "      <th>4</th>\n",
       "      <td>5.0</td>\n",
       "      <td>1.4</td>\n",
       "      <td>0.2</td>\n",
       "      <td>0.0</td>\n",
       "    </tr>\n",
       "    <tr>\n",
       "      <th>5</th>\n",
       "      <td>5.4</td>\n",
       "      <td>1.7</td>\n",
       "      <td>0.4</td>\n",
       "      <td>1.0</td>\n",
       "    </tr>\n",
       "    <tr>\n",
       "      <th>6</th>\n",
       "      <td>4.6</td>\n",
       "      <td>1.4</td>\n",
       "      <td>0.3</td>\n",
       "      <td>1.0</td>\n",
       "    </tr>\n",
       "    <tr>\n",
       "      <th>7</th>\n",
       "      <td>5.0</td>\n",
       "      <td>1.5</td>\n",
       "      <td>0.2</td>\n",
       "      <td>1.0</td>\n",
       "    </tr>\n",
       "  </tbody>\n",
       "</table>\n",
       "</div>"
      ],
      "text/plain": [
       "   var1  var2  var3  class\n",
       "0   5.1   1.4   0.2    0.0\n",
       "1   4.9   1.4   0.2    0.0\n",
       "2   4.7   1.3   0.2    0.0\n",
       "3   4.6   1.5   0.2    0.0\n",
       "4   5.0   1.4   0.2    0.0\n",
       "5   5.4   1.7   0.4    1.0\n",
       "6   4.6   1.4   0.3    1.0\n",
       "7   5.0   1.5   0.2    1.0"
      ]
     },
     "execution_count": 1,
     "metadata": {},
     "output_type": "execute_result"
    }
   ],
   "source": [
    "import numpy as np\n",
    "import pandas as pd\n",
    "from sklearn.preprocessing import StandardScaler\n",
    "np.random.seed(42)\n",
    "df = pd.DataFrame({'var1': [5.1,4.9,4.7,4.6,5.0,5.4,4.6,5.0],\n",
    "                   'var2': [1.4,1.4,1.3,1.5,1.4,1.7,1.4,1.5],\n",
    "                   'var3': [0.2,0.2,0.2,0.2,0.2,0.4,0.3,0.2],\n",
    "                   'class': [0.0,0.0,0.0,0.0,0.0,1.0,1.0,1.0]})\n",
    "df"
   ]
  },
  {
   "cell_type": "code",
   "execution_count": 4,
   "id": "0cc3218d",
   "metadata": {},
   "outputs": [
    {
     "data": {
      "text/plain": [
       "array([[ 0.72932496, -0.4472136 , -0.53881591],\n",
       "       [-0.04862166, -0.4472136 , -0.53881591],\n",
       "       [-0.82656829, -1.34164079, -0.53881591],\n",
       "       [-1.2155416 ,  0.4472136 , -0.53881591],\n",
       "       [ 0.34035165, -0.4472136 , -0.53881591],\n",
       "       [ 1.89624489,  2.23606798,  2.33486893],\n",
       "       [-1.2155416 , -0.4472136 ,  0.89802651],\n",
       "       [ 0.34035165,  0.4472136 , -0.53881591]])"
      ]
     },
     "execution_count": 4,
     "metadata": {},
     "output_type": "execute_result"
    }
   ],
   "source": [
    "X = df.copy()\n",
    "y = X.pop('class')\n",
    "\n",
    "scaler = StandardScaler()\n",
    "X_std = scaler.fit_transform(X)\n",
    "X_std"
   ]
  },
  {
   "cell_type": "markdown",
   "id": "12dcacf7",
   "metadata": {},
   "source": [
    "### 68 decomposition, eigen value & eigen vector"
   ]
  },
  {
   "cell_type": "code",
   "execution_count": 14,
   "id": "0c818188",
   "metadata": {},
   "outputs": [
    {
     "data": {
      "text/plain": [
       "array([[1.14285714, 0.7206672 , 0.52895264],\n",
       "       [0.7206672 , 1.14285714, 0.82616845],\n",
       "       [0.52895264, 0.82616845, 1.14285714]])"
      ]
     },
     "execution_count": 14,
     "metadata": {},
     "output_type": "execute_result"
    }
   ],
   "source": [
    "cov = np.cov(X_std, rowvar=False)\n",
    "cov"
   ]
  },
  {
   "cell_type": "code",
   "execution_count": 15,
   "id": "2014a25e",
   "metadata": {},
   "outputs": [
    {
     "data": {
      "text/plain": [
       "(array([2.53374217, 0.62287275, 0.27195651]),\n",
       " array([[-0.53822284, -0.78400934,  0.30926612],\n",
       "        [-0.61876769,  0.11844348, -0.77659365],\n",
       "        [-0.57222611,  0.60934432,  0.54886863]]))"
      ]
     },
     "execution_count": 15,
     "metadata": {},
     "output_type": "execute_result"
    }
   ],
   "source": [
    "eig_vals, eig_vecs = np.linalg.eig(cov)\n",
    "eig_vals, eig_vecs"
   ]
  },
  {
   "cell_type": "code",
   "execution_count": 16,
   "id": "5c550c98",
   "metadata": {},
   "outputs": [
    {
     "data": {
      "text/plain": [
       "[(2.533742170806442, array([-0.53822284, -0.61876769, -0.57222611])),\n",
       " (0.6228727503870667, array([-0.78400934,  0.11844348,  0.60934432])),\n",
       " (0.2719565073779216, array([ 0.30926612, -0.77659365,  0.54886863]))]"
      ]
     },
     "execution_count": 16,
     "metadata": {},
     "output_type": "execute_result"
    }
   ],
   "source": [
    "eig_pairs=[(np.abs(eig_vals[i]), eig_vecs[:, i]) for i in range(len(eig_vals))]\n",
    "eig_pairs"
   ]
  },
  {
   "cell_type": "code",
   "execution_count": 17,
   "id": "a624f435",
   "metadata": {},
   "outputs": [
    {
     "data": {
      "text/plain": [
       "[(2.533742170806442, array([-0.53822284, -0.61876769, -0.57222611])),\n",
       " (0.6228727503870667, array([-0.78400934,  0.11844348,  0.60934432])),\n",
       " (0.2719565073779216, array([ 0.30926612, -0.77659365,  0.54886863]))]"
      ]
     },
     "execution_count": 17,
     "metadata": {},
     "output_type": "execute_result"
    }
   ],
   "source": [
    "eig_pairs.sort(reverse=True)\n",
    "eig_pairs"
   ]
  },
  {
   "cell_type": "code",
   "execution_count": 19,
   "id": "5839e629",
   "metadata": {},
   "outputs": [
    {
     "data": {
      "text/plain": [
       "array([[-0.53822284, -0.78400934],\n",
       "       [-0.61876769,  0.11844348],\n",
       "       [-0.57222611,  0.60934432]])"
      ]
     },
     "execution_count": 19,
     "metadata": {},
     "output_type": "execute_result"
    }
   ],
   "source": [
    "W = np.hstack(\n",
    "    (\n",
    "        eig_pairs[0][1].reshape(3,1),\n",
    "        eig_pairs[1][1].reshape(3,1)\n",
    "    )\n",
    ")\n",
    "W"
   ]
  },
  {
   "cell_type": "code",
   "execution_count": 20,
   "id": "50d7bf77",
   "metadata": {},
   "outputs": [
    {
     "data": {
      "text/plain": [
       "array([[ 0.1925065 , -0.95309152],\n",
       "       [ 0.61121514, -0.34317411],\n",
       "       [ 1.58336643,  0.16080423],\n",
       "       [ 0.68583546,  0.67764108],\n",
       "       [ 0.40186082, -0.64813282],\n",
       "       [-3.74028189,  0.2009131 ],\n",
       "       [ 0.41707935,  1.44723378],\n",
       "       [-0.15158182, -0.54219375]])"
      ]
     },
     "execution_count": 20,
     "metadata": {},
     "output_type": "execute_result"
    }
   ],
   "source": [
    "X_pca = X_std.dot(W)\n",
    "X_pca"
   ]
  },
  {
   "cell_type": "markdown",
   "id": "81f6a8d1",
   "metadata": {},
   "source": [
    "### 69 group X_pca and class"
   ]
  },
  {
   "cell_type": "code",
   "execution_count": 22,
   "id": "637ef476",
   "metadata": {},
   "outputs": [
    {
     "data": {
      "text/html": [
       "<div>\n",
       "<style scoped>\n",
       "    .dataframe tbody tr th:only-of-type {\n",
       "        vertical-align: middle;\n",
       "    }\n",
       "\n",
       "    .dataframe tbody tr th {\n",
       "        vertical-align: top;\n",
       "    }\n",
       "\n",
       "    .dataframe thead th {\n",
       "        text-align: right;\n",
       "    }\n",
       "</style>\n",
       "<table border=\"1\" class=\"dataframe\">\n",
       "  <thead>\n",
       "    <tr style=\"text-align: right;\">\n",
       "      <th></th>\n",
       "      <th>pca_1</th>\n",
       "      <th>pca_2</th>\n",
       "    </tr>\n",
       "  </thead>\n",
       "  <tbody>\n",
       "    <tr>\n",
       "      <th>0</th>\n",
       "      <td>0.192507</td>\n",
       "      <td>-0.953092</td>\n",
       "    </tr>\n",
       "    <tr>\n",
       "      <th>1</th>\n",
       "      <td>0.611215</td>\n",
       "      <td>-0.343174</td>\n",
       "    </tr>\n",
       "    <tr>\n",
       "      <th>2</th>\n",
       "      <td>1.583366</td>\n",
       "      <td>0.160804</td>\n",
       "    </tr>\n",
       "    <tr>\n",
       "      <th>3</th>\n",
       "      <td>0.685835</td>\n",
       "      <td>0.677641</td>\n",
       "    </tr>\n",
       "    <tr>\n",
       "      <th>4</th>\n",
       "      <td>0.401861</td>\n",
       "      <td>-0.648133</td>\n",
       "    </tr>\n",
       "    <tr>\n",
       "      <th>5</th>\n",
       "      <td>-3.740282</td>\n",
       "      <td>0.200913</td>\n",
       "    </tr>\n",
       "    <tr>\n",
       "      <th>6</th>\n",
       "      <td>0.417079</td>\n",
       "      <td>1.447234</td>\n",
       "    </tr>\n",
       "    <tr>\n",
       "      <th>7</th>\n",
       "      <td>-0.151582</td>\n",
       "      <td>-0.542194</td>\n",
       "    </tr>\n",
       "  </tbody>\n",
       "</table>\n",
       "</div>"
      ],
      "text/plain": [
       "      pca_1     pca_2\n",
       "0  0.192507 -0.953092\n",
       "1  0.611215 -0.343174\n",
       "2  1.583366  0.160804\n",
       "3  0.685835  0.677641\n",
       "4  0.401861 -0.648133\n",
       "5 -3.740282  0.200913\n",
       "6  0.417079  1.447234\n",
       "7 -0.151582 -0.542194"
      ]
     },
     "execution_count": 22,
     "metadata": {},
     "output_type": "execute_result"
    }
   ],
   "source": [
    "df_pca = pd.DataFrame(data=X_pca, columns=['pca_1','pca_2'])\n",
    "df_pca"
   ]
  },
  {
   "cell_type": "code",
   "execution_count": 24,
   "id": "57f2227f",
   "metadata": {},
   "outputs": [
    {
     "data": {
      "text/html": [
       "<div>\n",
       "<style scoped>\n",
       "    .dataframe tbody tr th:only-of-type {\n",
       "        vertical-align: middle;\n",
       "    }\n",
       "\n",
       "    .dataframe tbody tr th {\n",
       "        vertical-align: top;\n",
       "    }\n",
       "\n",
       "    .dataframe thead th {\n",
       "        text-align: right;\n",
       "    }\n",
       "</style>\n",
       "<table border=\"1\" class=\"dataframe\">\n",
       "  <thead>\n",
       "    <tr style=\"text-align: right;\">\n",
       "      <th></th>\n",
       "      <th>pca_1</th>\n",
       "      <th>pca_2</th>\n",
       "      <th>class</th>\n",
       "    </tr>\n",
       "  </thead>\n",
       "  <tbody>\n",
       "    <tr>\n",
       "      <th>0</th>\n",
       "      <td>0.192507</td>\n",
       "      <td>-0.953092</td>\n",
       "      <td>0.0</td>\n",
       "    </tr>\n",
       "    <tr>\n",
       "      <th>1</th>\n",
       "      <td>0.611215</td>\n",
       "      <td>-0.343174</td>\n",
       "      <td>0.0</td>\n",
       "    </tr>\n",
       "    <tr>\n",
       "      <th>2</th>\n",
       "      <td>1.583366</td>\n",
       "      <td>0.160804</td>\n",
       "      <td>0.0</td>\n",
       "    </tr>\n",
       "    <tr>\n",
       "      <th>3</th>\n",
       "      <td>0.685835</td>\n",
       "      <td>0.677641</td>\n",
       "      <td>0.0</td>\n",
       "    </tr>\n",
       "    <tr>\n",
       "      <th>4</th>\n",
       "      <td>0.401861</td>\n",
       "      <td>-0.648133</td>\n",
       "      <td>0.0</td>\n",
       "    </tr>\n",
       "    <tr>\n",
       "      <th>5</th>\n",
       "      <td>-3.740282</td>\n",
       "      <td>0.200913</td>\n",
       "      <td>1.0</td>\n",
       "    </tr>\n",
       "    <tr>\n",
       "      <th>6</th>\n",
       "      <td>0.417079</td>\n",
       "      <td>1.447234</td>\n",
       "      <td>1.0</td>\n",
       "    </tr>\n",
       "    <tr>\n",
       "      <th>7</th>\n",
       "      <td>-0.151582</td>\n",
       "      <td>-0.542194</td>\n",
       "      <td>1.0</td>\n",
       "    </tr>\n",
       "  </tbody>\n",
       "</table>\n",
       "</div>"
      ],
      "text/plain": [
       "      pca_1     pca_2  class\n",
       "0  0.192507 -0.953092    0.0\n",
       "1  0.611215 -0.343174    0.0\n",
       "2  1.583366  0.160804    0.0\n",
       "3  0.685835  0.677641    0.0\n",
       "4  0.401861 -0.648133    0.0\n",
       "5 -3.740282  0.200913    1.0\n",
       "6  0.417079  1.447234    1.0\n",
       "7 -0.151582 -0.542194    1.0"
      ]
     },
     "execution_count": 24,
     "metadata": {},
     "output_type": "execute_result"
    }
   ],
   "source": [
    "df_pca['class'] = df['class']\n",
    "df_pca"
   ]
  },
  {
   "cell_type": "markdown",
   "id": "3595facf",
   "metadata": {},
   "source": [
    "### 70 sklearn PCA"
   ]
  },
  {
   "cell_type": "code",
   "execution_count": 25,
   "id": "04182904",
   "metadata": {},
   "outputs": [
    {
     "data": {
      "text/plain": [
       "array([[-0.1925065 , -0.95309152],\n",
       "       [-0.61121514, -0.34317411],\n",
       "       [-1.58336643,  0.16080423],\n",
       "       [-0.68583546,  0.67764108],\n",
       "       [-0.40186082, -0.64813282],\n",
       "       [ 3.74028189,  0.2009131 ],\n",
       "       [-0.41707935,  1.44723378],\n",
       "       [ 0.15158182, -0.54219375]])"
      ]
     },
     "execution_count": 25,
     "metadata": {},
     "output_type": "execute_result"
    }
   ],
   "source": [
    "from sklearn.decomposition import PCA\n",
    "pca = PCA(n_components=2)\n",
    "X_pca = pca.fit_transform(X_std)\n",
    "X_pca"
   ]
  },
  {
   "cell_type": "code",
   "execution_count": 26,
   "id": "97fa09dc",
   "metadata": {},
   "outputs": [
    {
     "data": {
      "text/html": [
       "<div>\n",
       "<style scoped>\n",
       "    .dataframe tbody tr th:only-of-type {\n",
       "        vertical-align: middle;\n",
       "    }\n",
       "\n",
       "    .dataframe tbody tr th {\n",
       "        vertical-align: top;\n",
       "    }\n",
       "\n",
       "    .dataframe thead th {\n",
       "        text-align: right;\n",
       "    }\n",
       "</style>\n",
       "<table border=\"1\" class=\"dataframe\">\n",
       "  <thead>\n",
       "    <tr style=\"text-align: right;\">\n",
       "      <th></th>\n",
       "      <th>pca_1</th>\n",
       "      <th>pca_2</th>\n",
       "    </tr>\n",
       "  </thead>\n",
       "  <tbody>\n",
       "    <tr>\n",
       "      <th>0</th>\n",
       "      <td>-0.192507</td>\n",
       "      <td>-0.953092</td>\n",
       "    </tr>\n",
       "    <tr>\n",
       "      <th>1</th>\n",
       "      <td>-0.611215</td>\n",
       "      <td>-0.343174</td>\n",
       "    </tr>\n",
       "    <tr>\n",
       "      <th>2</th>\n",
       "      <td>-1.583366</td>\n",
       "      <td>0.160804</td>\n",
       "    </tr>\n",
       "    <tr>\n",
       "      <th>3</th>\n",
       "      <td>-0.685835</td>\n",
       "      <td>0.677641</td>\n",
       "    </tr>\n",
       "    <tr>\n",
       "      <th>4</th>\n",
       "      <td>-0.401861</td>\n",
       "      <td>-0.648133</td>\n",
       "    </tr>\n",
       "    <tr>\n",
       "      <th>5</th>\n",
       "      <td>3.740282</td>\n",
       "      <td>0.200913</td>\n",
       "    </tr>\n",
       "    <tr>\n",
       "      <th>6</th>\n",
       "      <td>-0.417079</td>\n",
       "      <td>1.447234</td>\n",
       "    </tr>\n",
       "    <tr>\n",
       "      <th>7</th>\n",
       "      <td>0.151582</td>\n",
       "      <td>-0.542194</td>\n",
       "    </tr>\n",
       "  </tbody>\n",
       "</table>\n",
       "</div>"
      ],
      "text/plain": [
       "      pca_1     pca_2\n",
       "0 -0.192507 -0.953092\n",
       "1 -0.611215 -0.343174\n",
       "2 -1.583366  0.160804\n",
       "3 -0.685835  0.677641\n",
       "4 -0.401861 -0.648133\n",
       "5  3.740282  0.200913\n",
       "6 -0.417079  1.447234\n",
       "7  0.151582 -0.542194"
      ]
     },
     "execution_count": 26,
     "metadata": {},
     "output_type": "execute_result"
    }
   ],
   "source": [
    "df_pca = pd.DataFrame(data=X_pca, columns=['pca_1','pca_2'])\n",
    "df_pca"
   ]
  },
  {
   "cell_type": "code",
   "execution_count": 27,
   "id": "d320cb99",
   "metadata": {},
   "outputs": [
    {
     "data": {
      "text/html": [
       "<div>\n",
       "<style scoped>\n",
       "    .dataframe tbody tr th:only-of-type {\n",
       "        vertical-align: middle;\n",
       "    }\n",
       "\n",
       "    .dataframe tbody tr th {\n",
       "        vertical-align: top;\n",
       "    }\n",
       "\n",
       "    .dataframe thead th {\n",
       "        text-align: right;\n",
       "    }\n",
       "</style>\n",
       "<table border=\"1\" class=\"dataframe\">\n",
       "  <thead>\n",
       "    <tr style=\"text-align: right;\">\n",
       "      <th></th>\n",
       "      <th>pca_1</th>\n",
       "      <th>pca_2</th>\n",
       "      <th>class</th>\n",
       "    </tr>\n",
       "  </thead>\n",
       "  <tbody>\n",
       "    <tr>\n",
       "      <th>0</th>\n",
       "      <td>-0.192507</td>\n",
       "      <td>-0.953092</td>\n",
       "      <td>0.0</td>\n",
       "    </tr>\n",
       "    <tr>\n",
       "      <th>1</th>\n",
       "      <td>-0.611215</td>\n",
       "      <td>-0.343174</td>\n",
       "      <td>0.0</td>\n",
       "    </tr>\n",
       "    <tr>\n",
       "      <th>2</th>\n",
       "      <td>-1.583366</td>\n",
       "      <td>0.160804</td>\n",
       "      <td>0.0</td>\n",
       "    </tr>\n",
       "    <tr>\n",
       "      <th>3</th>\n",
       "      <td>-0.685835</td>\n",
       "      <td>0.677641</td>\n",
       "      <td>0.0</td>\n",
       "    </tr>\n",
       "    <tr>\n",
       "      <th>4</th>\n",
       "      <td>-0.401861</td>\n",
       "      <td>-0.648133</td>\n",
       "      <td>0.0</td>\n",
       "    </tr>\n",
       "    <tr>\n",
       "      <th>5</th>\n",
       "      <td>3.740282</td>\n",
       "      <td>0.200913</td>\n",
       "      <td>1.0</td>\n",
       "    </tr>\n",
       "    <tr>\n",
       "      <th>6</th>\n",
       "      <td>-0.417079</td>\n",
       "      <td>1.447234</td>\n",
       "      <td>1.0</td>\n",
       "    </tr>\n",
       "    <tr>\n",
       "      <th>7</th>\n",
       "      <td>0.151582</td>\n",
       "      <td>-0.542194</td>\n",
       "      <td>1.0</td>\n",
       "    </tr>\n",
       "  </tbody>\n",
       "</table>\n",
       "</div>"
      ],
      "text/plain": [
       "      pca_1     pca_2  class\n",
       "0 -0.192507 -0.953092    0.0\n",
       "1 -0.611215 -0.343174    0.0\n",
       "2 -1.583366  0.160804    0.0\n",
       "3 -0.685835  0.677641    0.0\n",
       "4 -0.401861 -0.648133    0.0\n",
       "5  3.740282  0.200913    1.0\n",
       "6 -0.417079  1.447234    1.0\n",
       "7  0.151582 -0.542194    1.0"
      ]
     },
     "execution_count": 27,
     "metadata": {},
     "output_type": "execute_result"
    }
   ],
   "source": [
    "df_pca['class'] = df['class']\n",
    "df_pca"
   ]
  },
  {
   "cell_type": "markdown",
   "id": "0f8c3e0c",
   "metadata": {},
   "source": [
    "### 71 PCA distribution of variance"
   ]
  },
  {
   "cell_type": "code",
   "execution_count": 28,
   "id": "cd0a72f2",
   "metadata": {},
   "outputs": [
    {
     "data": {
      "text/html": [
       "<div>\n",
       "<style scoped>\n",
       "    .dataframe tbody tr th:only-of-type {\n",
       "        vertical-align: middle;\n",
       "    }\n",
       "\n",
       "    .dataframe tbody tr th {\n",
       "        vertical-align: top;\n",
       "    }\n",
       "\n",
       "    .dataframe thead th {\n",
       "        text-align: right;\n",
       "    }\n",
       "</style>\n",
       "<table border=\"1\" class=\"dataframe\">\n",
       "  <thead>\n",
       "    <tr style=\"text-align: right;\">\n",
       "      <th></th>\n",
       "      <th>var1</th>\n",
       "      <th>var2</th>\n",
       "      <th>var3</th>\n",
       "      <th>var4</th>\n",
       "      <th>var5</th>\n",
       "      <th>var6</th>\n",
       "      <th>var7</th>\n",
       "      <th>var8</th>\n",
       "      <th>var9</th>\n",
       "      <th>var10</th>\n",
       "    </tr>\n",
       "  </thead>\n",
       "  <tbody>\n",
       "    <tr>\n",
       "      <th>0</th>\n",
       "      <td>14.23</td>\n",
       "      <td>1.71</td>\n",
       "      <td>2.43</td>\n",
       "      <td>15.6</td>\n",
       "      <td>127</td>\n",
       "      <td>2.80</td>\n",
       "      <td>3.06</td>\n",
       "      <td>0.28</td>\n",
       "      <td>2.29</td>\n",
       "      <td>5.64</td>\n",
       "    </tr>\n",
       "    <tr>\n",
       "      <th>1</th>\n",
       "      <td>13.20</td>\n",
       "      <td>1.78</td>\n",
       "      <td>2.14</td>\n",
       "      <td>11.2</td>\n",
       "      <td>100</td>\n",
       "      <td>2.65</td>\n",
       "      <td>2.76</td>\n",
       "      <td>0.26</td>\n",
       "      <td>1.28</td>\n",
       "      <td>4.38</td>\n",
       "    </tr>\n",
       "    <tr>\n",
       "      <th>2</th>\n",
       "      <td>13.16</td>\n",
       "      <td>2.36</td>\n",
       "      <td>2.67</td>\n",
       "      <td>18.6</td>\n",
       "      <td>101</td>\n",
       "      <td>2.80</td>\n",
       "      <td>3.24</td>\n",
       "      <td>0.30</td>\n",
       "      <td>2.81</td>\n",
       "      <td>5.68</td>\n",
       "    </tr>\n",
       "    <tr>\n",
       "      <th>3</th>\n",
       "      <td>14.37</td>\n",
       "      <td>1.95</td>\n",
       "      <td>2.50</td>\n",
       "      <td>16.8</td>\n",
       "      <td>113</td>\n",
       "      <td>3.85</td>\n",
       "      <td>3.49</td>\n",
       "      <td>0.24</td>\n",
       "      <td>2.18</td>\n",
       "      <td>7.80</td>\n",
       "    </tr>\n",
       "    <tr>\n",
       "      <th>4</th>\n",
       "      <td>13.24</td>\n",
       "      <td>2.59</td>\n",
       "      <td>2.87</td>\n",
       "      <td>21.0</td>\n",
       "      <td>118</td>\n",
       "      <td>2.80</td>\n",
       "      <td>2.69</td>\n",
       "      <td>0.39</td>\n",
       "      <td>1.82</td>\n",
       "      <td>4.32</td>\n",
       "    </tr>\n",
       "  </tbody>\n",
       "</table>\n",
       "</div>"
      ],
      "text/plain": [
       "    var1  var2  var3  var4  var5  var6  var7  var8  var9  var10\n",
       "0  14.23  1.71  2.43  15.6   127  2.80  3.06  0.28  2.29   5.64\n",
       "1  13.20  1.78  2.14  11.2   100  2.65  2.76  0.26  1.28   4.38\n",
       "2  13.16  2.36  2.67  18.6   101  2.80  3.24  0.30  2.81   5.68\n",
       "3  14.37  1.95  2.50  16.8   113  3.85  3.49  0.24  2.18   7.80\n",
       "4  13.24  2.59  2.87  21.0   118  2.80  2.69  0.39  1.82   4.32"
      ]
     },
     "execution_count": 28,
     "metadata": {},
     "output_type": "execute_result"
    }
   ],
   "source": [
    "from sklearn.preprocessing import StandardScaler\n",
    "from sklearn.decomposition import PCA\n",
    "df = pd.DataFrame({'var1': [14.23,13.20,13.16,14.37,13.24],\n",
    "                   'var2': [1.71,1.78,2.36, 1.95,2.59],\n",
    "                   'var3': [2.43,2.14,2.67,2.50,2.87],\n",
    "                   'var4': [15.6,11.2,18.6,16.8,21.0],\n",
    "                   'var5': [127,100,101,113,118],\n",
    "                   'var6': [2.8,2.65,2.8,3.85,2.8],\n",
    "                   'var7': [3.06,2.76,3.24,3.49,2.69],\n",
    "                   'var8': [0.28,0.26,0.3,0.24,0.39],\n",
    "                   'var9': [2.29,1.28,2.81,2.18,1.82],\n",
    "                   'var10': [5.64,4.38,5.68,7.8,4.32]})\n",
    "df"
   ]
  },
  {
   "cell_type": "code",
   "execution_count": 30,
   "id": "5fb070f0",
   "metadata": {},
   "outputs": [
    {
     "data": {
      "text/plain": [
       "array([[ 14.23,   1.71,   2.43,  15.6 , 127.  ,   2.8 ,   3.06,   0.28,\n",
       "          2.29,   5.64],\n",
       "       [ 13.2 ,   1.78,   2.14,  11.2 , 100.  ,   2.65,   2.76,   0.26,\n",
       "          1.28,   4.38],\n",
       "       [ 13.16,   2.36,   2.67,  18.6 , 101.  ,   2.8 ,   3.24,   0.3 ,\n",
       "          2.81,   5.68],\n",
       "       [ 14.37,   1.95,   2.5 ,  16.8 , 113.  ,   3.85,   3.49,   0.24,\n",
       "          2.18,   7.8 ],\n",
       "       [ 13.24,   2.59,   2.87,  21.  , 118.  ,   2.8 ,   2.69,   0.39,\n",
       "          1.82,   4.32]])"
      ]
     },
     "execution_count": 30,
     "metadata": {},
     "output_type": "execute_result"
    }
   ],
   "source": [
    "data = df.values\n",
    "data"
   ]
  },
  {
   "cell_type": "code",
   "execution_count": 32,
   "id": "b01e6f82",
   "metadata": {},
   "outputs": [
    {
     "data": {
      "text/plain": [
       "array([[-1.08691029,  0.14280811, -1.67387628],\n",
       "       [ 0.13230315,  3.58522339,  0.46236011],\n",
       "       [ 0.75722232, -1.14202395,  1.82214925],\n",
       "       [-3.07482769, -1.41918363,  0.19886055],\n",
       "       [ 3.27221251, -1.16682392, -0.80949364]])"
      ]
     },
     "execution_count": 32,
     "metadata": {},
     "output_type": "execute_result"
    }
   ],
   "source": [
    "sc = StandardScaler()\n",
    "data_std = sc.fit_transform(data)\n",
    "pca = PCA(n_components=3)\n",
    "data_pca = pca.fit_transform(data_std)\n",
    "data_pca[:10]"
   ]
  },
  {
   "cell_type": "code",
   "execution_count": 34,
   "id": "89296437",
   "metadata": {},
   "outputs": [
    {
     "data": {
      "text/html": [
       "<div>\n",
       "<style scoped>\n",
       "    .dataframe tbody tr th:only-of-type {\n",
       "        vertical-align: middle;\n",
       "    }\n",
       "\n",
       "    .dataframe tbody tr th {\n",
       "        vertical-align: top;\n",
       "    }\n",
       "\n",
       "    .dataframe thead th {\n",
       "        text-align: right;\n",
       "    }\n",
       "</style>\n",
       "<table border=\"1\" class=\"dataframe\">\n",
       "  <thead>\n",
       "    <tr style=\"text-align: right;\">\n",
       "      <th></th>\n",
       "      <th>variance_ratio</th>\n",
       "    </tr>\n",
       "  </thead>\n",
       "  <tbody>\n",
       "    <tr>\n",
       "      <th>0</th>\n",
       "      <td>0.438684</td>\n",
       "    </tr>\n",
       "    <tr>\n",
       "      <th>1</th>\n",
       "      <td>0.351080</td>\n",
       "    </tr>\n",
       "    <tr>\n",
       "      <th>2</th>\n",
       "      <td>0.140614</td>\n",
       "    </tr>\n",
       "  </tbody>\n",
       "</table>\n",
       "</div>"
      ],
      "text/plain": [
       "   variance_ratio\n",
       "0        0.438684\n",
       "1        0.351080\n",
       "2        0.140614"
      ]
     },
     "execution_count": 34,
     "metadata": {},
     "output_type": "execute_result"
    }
   ],
   "source": [
    "results = pd.DataFrame(data={'variance_ratio': pca.explained_variance_ratio_})\n",
    "results"
   ]
  },
  {
   "cell_type": "code",
   "execution_count": 36,
   "id": "3bd1e890",
   "metadata": {},
   "outputs": [
    {
     "data": {
      "text/html": [
       "<div>\n",
       "<style scoped>\n",
       "    .dataframe tbody tr th:only-of-type {\n",
       "        vertical-align: middle;\n",
       "    }\n",
       "\n",
       "    .dataframe tbody tr th {\n",
       "        vertical-align: top;\n",
       "    }\n",
       "\n",
       "    .dataframe thead th {\n",
       "        text-align: right;\n",
       "    }\n",
       "</style>\n",
       "<table border=\"1\" class=\"dataframe\">\n",
       "  <thead>\n",
       "    <tr style=\"text-align: right;\">\n",
       "      <th></th>\n",
       "      <th>variance_ratio</th>\n",
       "      <th>cumulative</th>\n",
       "      <th>component</th>\n",
       "    </tr>\n",
       "  </thead>\n",
       "  <tbody>\n",
       "    <tr>\n",
       "      <th>0</th>\n",
       "      <td>0.438684</td>\n",
       "      <td>0.438684</td>\n",
       "      <td>1</td>\n",
       "    </tr>\n",
       "    <tr>\n",
       "      <th>1</th>\n",
       "      <td>0.351080</td>\n",
       "      <td>0.789764</td>\n",
       "      <td>2</td>\n",
       "    </tr>\n",
       "    <tr>\n",
       "      <th>2</th>\n",
       "      <td>0.140614</td>\n",
       "      <td>0.930378</td>\n",
       "      <td>3</td>\n",
       "    </tr>\n",
       "  </tbody>\n",
       "</table>\n",
       "</div>"
      ],
      "text/plain": [
       "   variance_ratio  cumulative  component\n",
       "0        0.438684    0.438684          1\n",
       "1        0.351080    0.789764          2\n",
       "2        0.140614    0.930378          3"
      ]
     },
     "execution_count": 36,
     "metadata": {},
     "output_type": "execute_result"
    }
   ],
   "source": [
    "results['cumulative'] = results['variance_ratio'].cumsum()\n",
    "results['component'] = results.index + 1\n",
    "results"
   ]
  },
  {
   "cell_type": "markdown",
   "id": "f3a5ed80",
   "metadata": {},
   "source": [
    "### 72 95% variance ratio"
   ]
  },
  {
   "cell_type": "code",
   "execution_count": 37,
   "id": "8c048380",
   "metadata": {},
   "outputs": [
    {
     "data": {
      "text/plain": [
       "array([[ 1.08997918, -1.07836773, -0.37692258, -0.31778288,  1.48083171,\n",
       "        -0.41015156,  0.04029297, -0.26923077,  0.42057591,  0.06020259],\n",
       "       [-0.81286583, -0.87324344, -1.56504811, -1.6622489 , -1.14959304,\n",
       "        -0.75194452, -0.96703116, -0.65384615, -1.56438516, -0.93789306],\n",
       "       [-0.88676272,  0.82635788,  0.60635372,  0.5988985 , -1.0521699 ,\n",
       "        -0.41015156,  0.64468744,  0.11538462,  1.44253606,  0.09188817],\n",
       "       [ 1.3486183 , -0.37508443, -0.09013366,  0.04888967,  0.11690777,\n",
       "         1.98239919,  1.48412422, -1.03846154,  0.20439203,  1.77122371],\n",
       "       [-0.73896893,  1.50033771,  1.42575063,  1.3322436 ,  0.60402346,\n",
       "        -0.41015156, -1.20207346,  1.84615385, -0.50311885, -0.98542142]])"
      ]
     },
     "execution_count": 37,
     "metadata": {},
     "output_type": "execute_result"
    }
   ],
   "source": [
    "data_std[:10]"
   ]
  },
  {
   "cell_type": "code",
   "execution_count": 38,
   "id": "f65d8879",
   "metadata": {},
   "outputs": [
    {
     "data": {
      "text/plain": [
       "array([[-1.08691029,  0.14280811, -1.67387628,  1.09820867],\n",
       "       [ 0.13230315,  3.58522339,  0.46236011, -0.35670337],\n",
       "       [ 0.75722232, -1.14202395,  1.82214925,  0.88955187],\n",
       "       [-3.07482769, -1.41918363,  0.19886055, -0.93026422],\n",
       "       [ 3.27221251, -1.16682392, -0.80949364, -0.70079295]])"
      ]
     },
     "execution_count": 38,
     "metadata": {},
     "output_type": "execute_result"
    }
   ],
   "source": [
    "pca = PCA(n_components=0.95)\n",
    "data_pca = pca.fit_transform(data_std)\n",
    "data_pca[:10]"
   ]
  },
  {
   "cell_type": "code",
   "execution_count": 40,
   "id": "46e66e16",
   "metadata": {},
   "outputs": [
    {
     "data": {
      "text/plain": [
       "4"
      ]
     },
     "execution_count": 40,
     "metadata": {},
     "output_type": "execute_result"
    }
   ],
   "source": [
    "pca.n_components_"
   ]
  },
  {
   "cell_type": "code",
   "execution_count": null,
   "id": "2d0624cd",
   "metadata": {},
   "outputs": [],
   "source": []
  }
 ],
 "metadata": {
  "kernelspec": {
   "display_name": "Python 3 (ipykernel)",
   "language": "python",
   "name": "python3"
  },
  "language_info": {
   "codemirror_mode": {
    "name": "ipython",
    "version": 3
   },
   "file_extension": ".py",
   "mimetype": "text/x-python",
   "name": "python",
   "nbconvert_exporter": "python",
   "pygments_lexer": "ipython3",
   "version": "3.9.12"
  }
 },
 "nbformat": 4,
 "nbformat_minor": 5
}
