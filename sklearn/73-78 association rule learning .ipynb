{
 "cells": [
  {
   "cell_type": "markdown",
   "id": "aa8531c1",
   "metadata": {},
   "source": [
    "### Association rule learning "
   ]
  },
  {
   "cell_type": "code",
   "execution_count": 1,
   "id": "fd5541d9",
   "metadata": {},
   "outputs": [
    {
     "data": {
      "text/plain": [
       "{'products': ['bread eggs',\n",
       "  'bread eggs milk',\n",
       "  'milk cheese',\n",
       "  'bread butter cheese',\n",
       "  'eggs milk',\n",
       "  'bread milk butter cheese']}"
      ]
     },
     "execution_count": 1,
     "metadata": {},
     "output_type": "execute_result"
    }
   ],
   "source": [
    "import numpy as np\n",
    "import pandas as pd\n",
    "data = {'products':['bread eggs', 'bread eggs milk', 'milk cheese', 'bread butter cheese', \n",
    "                    'eggs milk', 'bread milk butter cheese']}\n",
    "data"
   ]
  },
  {
   "cell_type": "code",
   "execution_count": 2,
   "id": "e09d0c8d",
   "metadata": {},
   "outputs": [
    {
     "data": {
      "text/html": [
       "<div>\n",
       "<style scoped>\n",
       "    .dataframe tbody tr th:only-of-type {\n",
       "        vertical-align: middle;\n",
       "    }\n",
       "\n",
       "    .dataframe tbody tr th {\n",
       "        vertical-align: top;\n",
       "    }\n",
       "\n",
       "    .dataframe thead th {\n",
       "        text-align: right;\n",
       "    }\n",
       "</style>\n",
       "<table border=\"1\" class=\"dataframe\">\n",
       "  <thead>\n",
       "    <tr style=\"text-align: right;\">\n",
       "      <th></th>\n",
       "      <th>products</th>\n",
       "    </tr>\n",
       "  </thead>\n",
       "  <tbody>\n",
       "    <tr>\n",
       "      <th>1</th>\n",
       "      <td>bread eggs</td>\n",
       "    </tr>\n",
       "    <tr>\n",
       "      <th>2</th>\n",
       "      <td>bread eggs milk</td>\n",
       "    </tr>\n",
       "    <tr>\n",
       "      <th>3</th>\n",
       "      <td>milk cheese</td>\n",
       "    </tr>\n",
       "    <tr>\n",
       "      <th>4</th>\n",
       "      <td>bread butter cheese</td>\n",
       "    </tr>\n",
       "    <tr>\n",
       "      <th>5</th>\n",
       "      <td>eggs milk</td>\n",
       "    </tr>\n",
       "    <tr>\n",
       "      <th>6</th>\n",
       "      <td>bread milk butter cheese</td>\n",
       "    </tr>\n",
       "  </tbody>\n",
       "</table>\n",
       "</div>"
      ],
      "text/plain": [
       "                   products\n",
       "1                bread eggs\n",
       "2           bread eggs milk\n",
       "3               milk cheese\n",
       "4       bread butter cheese\n",
       "5                 eggs milk\n",
       "6  bread milk butter cheese"
      ]
     },
     "execution_count": 2,
     "metadata": {},
     "output_type": "execute_result"
    }
   ],
   "source": [
    "transcations = pd.DataFrame(data=data, index=range(1,7))\n",
    "transcations"
   ]
  },
  {
   "cell_type": "code",
   "execution_count": 4,
   "id": "8cf5024e",
   "metadata": {},
   "outputs": [
    {
     "data": {
      "text/html": [
       "<div>\n",
       "<style scoped>\n",
       "    .dataframe tbody tr th:only-of-type {\n",
       "        vertical-align: middle;\n",
       "    }\n",
       "\n",
       "    .dataframe tbody tr th {\n",
       "        vertical-align: top;\n",
       "    }\n",
       "\n",
       "    .dataframe thead th {\n",
       "        text-align: right;\n",
       "    }\n",
       "</style>\n",
       "<table border=\"1\" class=\"dataframe\">\n",
       "  <thead>\n",
       "    <tr style=\"text-align: right;\">\n",
       "      <th></th>\n",
       "      <th>0</th>\n",
       "      <th>1</th>\n",
       "      <th>2</th>\n",
       "      <th>3</th>\n",
       "    </tr>\n",
       "  </thead>\n",
       "  <tbody>\n",
       "    <tr>\n",
       "      <th>1</th>\n",
       "      <td>bread</td>\n",
       "      <td>eggs</td>\n",
       "      <td>None</td>\n",
       "      <td>None</td>\n",
       "    </tr>\n",
       "    <tr>\n",
       "      <th>2</th>\n",
       "      <td>bread</td>\n",
       "      <td>eggs</td>\n",
       "      <td>milk</td>\n",
       "      <td>None</td>\n",
       "    </tr>\n",
       "    <tr>\n",
       "      <th>3</th>\n",
       "      <td>milk</td>\n",
       "      <td>cheese</td>\n",
       "      <td>None</td>\n",
       "      <td>None</td>\n",
       "    </tr>\n",
       "    <tr>\n",
       "      <th>4</th>\n",
       "      <td>bread</td>\n",
       "      <td>butter</td>\n",
       "      <td>cheese</td>\n",
       "      <td>None</td>\n",
       "    </tr>\n",
       "    <tr>\n",
       "      <th>5</th>\n",
       "      <td>eggs</td>\n",
       "      <td>milk</td>\n",
       "      <td>None</td>\n",
       "      <td>None</td>\n",
       "    </tr>\n",
       "    <tr>\n",
       "      <th>6</th>\n",
       "      <td>bread</td>\n",
       "      <td>milk</td>\n",
       "      <td>butter</td>\n",
       "      <td>cheese</td>\n",
       "    </tr>\n",
       "  </tbody>\n",
       "</table>\n",
       "</div>"
      ],
      "text/plain": [
       "       0       1       2       3\n",
       "1  bread    eggs    None    None\n",
       "2  bread    eggs    milk    None\n",
       "3   milk  cheese    None    None\n",
       "4  bread  butter  cheese    None\n",
       "5   eggs    milk    None    None\n",
       "6  bread    milk  butter  cheese"
      ]
     },
     "execution_count": 4,
     "metadata": {},
     "output_type": "execute_result"
    }
   ],
   "source": [
    "expanded = transcations['products'].str.split(expand=True)\n",
    "expanded"
   ]
  },
  {
   "cell_type": "markdown",
   "id": "b3a36293",
   "metadata": {},
   "source": [
    "### 74 remove duplicates"
   ]
  },
  {
   "cell_type": "code",
   "execution_count": 5,
   "id": "48c3b3d9",
   "metadata": {},
   "outputs": [
    {
     "data": {
      "text/plain": [
       "{'bread', 'butter', 'cheese', 'eggs', 'milk'}"
      ]
     },
     "execution_count": 5,
     "metadata": {},
     "output_type": "execute_result"
    }
   ],
   "source": [
    "products = set()\n",
    "for col in expanded.columns:\n",
    "    for product in expanded[col].unique():\n",
    "        if product:\n",
    "            products.add(product)\n",
    "products"
   ]
  },
  {
   "cell_type": "code",
   "execution_count": 7,
   "id": "988b34e5",
   "metadata": {},
   "outputs": [
    {
     "data": {
      "text/plain": [
       "['bread', 'butter', 'cheese', 'eggs', 'milk']"
      ]
     },
     "execution_count": 7,
     "metadata": {},
     "output_type": "execute_result"
    }
   ],
   "source": [
    "products = sorted(list(products))\n",
    "products"
   ]
  },
  {
   "cell_type": "markdown",
   "id": "35afe127",
   "metadata": {},
   "source": [
    "### 75 OneHot encode"
   ]
  },
  {
   "cell_type": "code",
   "execution_count": 9,
   "id": "3d3a6876",
   "metadata": {},
   "outputs": [
    {
     "data": {
      "text/plain": [
       "array([[0, 0, 0, 0, 0],\n",
       "       [0, 0, 0, 0, 0],\n",
       "       [0, 0, 0, 0, 0],\n",
       "       [0, 0, 0, 0, 0],\n",
       "       [0, 0, 0, 0, 0],\n",
       "       [0, 0, 0, 0, 0]], dtype=int8)"
      ]
     },
     "execution_count": 9,
     "metadata": {},
     "output_type": "execute_result"
    }
   ],
   "source": [
    "transactions_encoded = np.zeros((len(expanded),len(products)),dtype='int8')\n",
    "transactions_encoded"
   ]
  },
  {
   "cell_type": "code",
   "execution_count": 13,
   "id": "24a5ae10",
   "metadata": {},
   "outputs": [
    {
     "name": "stdout",
     "output_type": "stream",
     "text": [
      "0 ['bread' 'eggs' None None]\n",
      "1 ['bread' 'eggs' 'milk' None]\n",
      "2 ['milk' 'cheese' None None]\n",
      "3 ['bread' 'butter' 'cheese' None]\n",
      "4 ['eggs' 'milk' None None]\n",
      "5 ['bread' 'milk' 'butter' 'cheese']\n"
     ]
    },
    {
     "data": {
      "text/plain": [
       "array([[1, 0, 0, 1, 0],\n",
       "       [1, 0, 0, 1, 1],\n",
       "       [0, 0, 1, 0, 1],\n",
       "       [1, 1, 1, 0, 0],\n",
       "       [0, 0, 0, 1, 1],\n",
       "       [1, 1, 1, 0, 1]], dtype=int8)"
      ]
     },
     "execution_count": 13,
     "metadata": {},
     "output_type": "execute_result"
    }
   ],
   "source": [
    "for row in zip(range(len(expanded)), expanded.values):\n",
    "    print(row[0],row[1])\n",
    "    for idx, product in enumerate(products):\n",
    "        # print(idx, product)\n",
    "        if product in row[1]:\n",
    "            transactions_encoded[row[0],idx]=1\n",
    "transactions_encoded"
   ]
  },
  {
   "cell_type": "code",
   "execution_count": 15,
   "id": "dd342b25",
   "metadata": {},
   "outputs": [
    {
     "data": {
      "text/html": [
       "<div>\n",
       "<style scoped>\n",
       "    .dataframe tbody tr th:only-of-type {\n",
       "        vertical-align: middle;\n",
       "    }\n",
       "\n",
       "    .dataframe tbody tr th {\n",
       "        vertical-align: top;\n",
       "    }\n",
       "\n",
       "    .dataframe thead th {\n",
       "        text-align: right;\n",
       "    }\n",
       "</style>\n",
       "<table border=\"1\" class=\"dataframe\">\n",
       "  <thead>\n",
       "    <tr style=\"text-align: right;\">\n",
       "      <th></th>\n",
       "      <th>bread</th>\n",
       "      <th>butter</th>\n",
       "      <th>cheese</th>\n",
       "      <th>eggs</th>\n",
       "      <th>milk</th>\n",
       "    </tr>\n",
       "  </thead>\n",
       "  <tbody>\n",
       "    <tr>\n",
       "      <th>0</th>\n",
       "      <td>1</td>\n",
       "      <td>0</td>\n",
       "      <td>0</td>\n",
       "      <td>1</td>\n",
       "      <td>0</td>\n",
       "    </tr>\n",
       "    <tr>\n",
       "      <th>1</th>\n",
       "      <td>1</td>\n",
       "      <td>0</td>\n",
       "      <td>0</td>\n",
       "      <td>1</td>\n",
       "      <td>1</td>\n",
       "    </tr>\n",
       "    <tr>\n",
       "      <th>2</th>\n",
       "      <td>0</td>\n",
       "      <td>0</td>\n",
       "      <td>1</td>\n",
       "      <td>0</td>\n",
       "      <td>1</td>\n",
       "    </tr>\n",
       "    <tr>\n",
       "      <th>3</th>\n",
       "      <td>1</td>\n",
       "      <td>1</td>\n",
       "      <td>1</td>\n",
       "      <td>0</td>\n",
       "      <td>0</td>\n",
       "    </tr>\n",
       "    <tr>\n",
       "      <th>4</th>\n",
       "      <td>0</td>\n",
       "      <td>0</td>\n",
       "      <td>0</td>\n",
       "      <td>1</td>\n",
       "      <td>1</td>\n",
       "    </tr>\n",
       "    <tr>\n",
       "      <th>5</th>\n",
       "      <td>1</td>\n",
       "      <td>1</td>\n",
       "      <td>1</td>\n",
       "      <td>0</td>\n",
       "      <td>1</td>\n",
       "    </tr>\n",
       "  </tbody>\n",
       "</table>\n",
       "</div>"
      ],
      "text/plain": [
       "   bread  butter  cheese  eggs  milk\n",
       "0      1       0       0     1     0\n",
       "1      1       0       0     1     1\n",
       "2      0       0       1     0     1\n",
       "3      1       1       1     0     0\n",
       "4      0       0       0     1     1\n",
       "5      1       1       1     0     1"
      ]
     },
     "execution_count": 15,
     "metadata": {},
     "output_type": "execute_result"
    }
   ],
   "source": [
    "transactions_encoded_df = pd.DataFrame(transactions_encoded, columns = products)\n",
    "transactions_encoded_df"
   ]
  },
  {
   "cell_type": "markdown",
   "id": "78b3aa18",
   "metadata": {},
   "source": [
    "### 76 product support rate"
   ]
  },
  {
   "cell_type": "code",
   "execution_count": 17,
   "id": "f238e250",
   "metadata": {},
   "outputs": [
    {
     "data": {
      "text/plain": [
       "bread     0.666667\n",
       "butter    0.333333\n",
       "cheese    0.500000\n",
       "eggs      0.500000\n",
       "milk      0.666667\n",
       "dtype: float64"
      ]
     },
     "execution_count": 17,
     "metadata": {},
     "output_type": "execute_result"
    }
   ],
   "source": [
    "support = transactions_encoded_df.sum()/len(transactions_encoded_df)\n",
    "support"
   ]
  },
  {
   "cell_type": "markdown",
   "id": "5707c356",
   "metadata": {},
   "source": [
    "### 77 multi products support rate"
   ]
  },
  {
   "cell_type": "code",
   "execution_count": 18,
   "id": "afd34655",
   "metadata": {},
   "outputs": [
    {
     "data": {
      "text/plain": [
       "0.3333333333333333"
      ]
     },
     "execution_count": 18,
     "metadata": {},
     "output_type": "execute_result"
    }
   ],
   "source": [
    "sup_butter_bread = len(transactions_encoded_df.query('butter==1 and bread==1'))/len(transactions_encoded_df)\n",
    "sup_butter_bread"
   ]
  },
  {
   "cell_type": "code",
   "execution_count": 20,
   "id": "57147c8c",
   "metadata": {},
   "outputs": [
    {
     "data": {
      "text/plain": [
       "0.16666666666666666"
      ]
     },
     "execution_count": 20,
     "metadata": {},
     "output_type": "execute_result"
    }
   ],
   "source": [
    "sup_butter_milk = len(transactions_encoded_df.query('butter==1 and milk==1'))/len(transactions_encoded_df)\n",
    "sup_butter_milk"
   ]
  },
  {
   "cell_type": "markdown",
   "id": "60c7a349",
   "metadata": {},
   "source": [
    "### 78 confidence rate"
   ]
  },
  {
   "cell_type": "code",
   "execution_count": 22,
   "id": "c552d1d8",
   "metadata": {},
   "outputs": [
    {
     "data": {
      "text/plain": [
       "0.6666666666666666"
      ]
     },
     "execution_count": 22,
     "metadata": {},
     "output_type": "execute_result"
    }
   ],
   "source": [
    "conf_cheese_bread = (len(transactions_encoded_df.query('cheese==1 and bread==1'))\n",
    "                    /len(transactions_encoded_df.query('cheese==1')))\n",
    "conf_cheese_bread"
   ]
  },
  {
   "cell_type": "code",
   "execution_count": 23,
   "id": "d69ebedf",
   "metadata": {},
   "outputs": [
    {
     "data": {
      "text/plain": [
       "1.0"
      ]
     },
     "execution_count": 23,
     "metadata": {},
     "output_type": "execute_result"
    }
   ],
   "source": [
    "conf_butter_bread = (len(transactions_encoded_df.query('butter==1 and bread==1'))\n",
    "                    /len(transactions_encoded_df.query('butter==1')))\n",
    "conf_butter_bread"
   ]
  },
  {
   "cell_type": "code",
   "execution_count": null,
   "id": "bd2197bb",
   "metadata": {},
   "outputs": [],
   "source": []
  }
 ],
 "metadata": {
  "kernelspec": {
   "display_name": "Python 3 (ipykernel)",
   "language": "python",
   "name": "python3"
  },
  "language_info": {
   "codemirror_mode": {
    "name": "ipython",
    "version": 3
   },
   "file_extension": ".py",
   "mimetype": "text/x-python",
   "name": "python",
   "nbconvert_exporter": "python",
   "pygments_lexer": "ipython3",
   "version": "3.9.12"
  }
 },
 "nbformat": 4,
 "nbformat_minor": 5
}
