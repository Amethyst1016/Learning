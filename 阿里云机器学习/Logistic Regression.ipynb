{
 "cells": [
  {
   "cell_type": "code",
   "execution_count": 4,
   "id": "5623c850",
   "metadata": {},
   "outputs": [],
   "source": [
    "import numpy as np\n",
    "import pandas as pd\n",
    "\n",
    "data = pd.read_csv('Iris.csv')\n",
    "data.drop_duplicates(inplace = True)\n",
    "data['species'] = data['species'].map({'Iris-versicolor':0, 'Iris-setosa':1, 'Iris-virginica':2})\n",
    "# since we can only divide into two categories, we drop the third category\n",
    "data = data[data['species'] != 2]"
   ]
  },
  {
   "cell_type": "code",
   "execution_count": 23,
   "id": "6048b05e",
   "metadata": {},
   "outputs": [],
   "source": [
    "class LogisticRegression:\n",
    "    def __init__(self, alpha, times):\n",
    "        self.alpha = alpha\n",
    "        self.times = times\n",
    "    def sigmoid(self, z):\n",
    "        # >=0.5 -> category 0, <0.5 -> category 1\n",
    "        return 1.0/(1.0+np.exp(-z))\n",
    "    def fit(self, X, y):\n",
    "        X = np.asarray(X)\n",
    "        y = np.asarray(y)\n",
    "        self.w_ = np.zeros(1+X.shape[1])\n",
    "        self.loss_ = []\n",
    "        for i in range(self.times):\n",
    "            z = np.dot(X, self.w_[1:])+self.w_[0]\n",
    "            p = self.sigmoid(z)\n",
    "            # J(w) = -sum(yi*log(sigmoid(zi))+(1-yi)*log(1-sigmoid(zi)))\n",
    "            cost = -(np.sum(y*np.log(p) + (1-y)*np.log(1-p)))\n",
    "            self.loss_.append(cost)\n",
    "            # change w, wj = wj + alpha*sum(y-s(z)*xj)\n",
    "            self.w_[0] += self.alpha * np.sum(y-p)\n",
    "            self.w_[1:] += self.alpha * np.dot(X.T, y-p)\n",
    "    def predict_prob(self, X):\n",
    "        # predict testing data on probability\n",
    "        X = np.asarray(X)\n",
    "        z = np.dot(X, self.w_[1:]) + self.w_[0]\n",
    "        p = self.sigmoid(z) # prob being category 1, 1-p is the prob being category 0\n",
    "        p = p.reshape(-1,1)\n",
    "        return np.concatenate([1-p, p], axis = 1)\n",
    "    def predict(self, X):\n",
    "        # predict testing data on category\n",
    "        return np.argmax(self.predict_prob(X), axis = 1)"
   ]
  },
  {
   "cell_type": "code",
   "execution_count": 25,
   "id": "215dee6e",
   "metadata": {
    "scrolled": true
   },
   "outputs": [
    {
     "data": {
      "text/plain": [
       "1.0"
      ]
     },
     "execution_count": 25,
     "metadata": {},
     "output_type": "execute_result"
    }
   ],
   "source": [
    "t0 = data[data['species']==0]\n",
    "t1 = data[data['species']==1]\n",
    "t0 = t0.sample(len(t0), random_state=0)\n",
    "t1 = t1.sample(len(t1), random_state=0)\n",
    "\n",
    "train_X = pd.concat([t0.iloc[:40, :-1], t1.iloc[:40, :-1]], axis = 0)\n",
    "train_y = pd.concat([t0.iloc[:40, -1], t1.iloc[:40, -1]], axis = 0)\n",
    "test_X = pd.concat([t0.iloc[40:, :-1], t1.iloc[40:, :-1]], axis = 0)\n",
    "test_y = pd.concat([t0.iloc[40:, -1], t1.iloc[40:, -1]], axis = 0)\n",
    "\n",
    "# since iris data have the same scale, we do not need standardize it\n",
    "lr = LogisticRegression(0.01, 20)\n",
    "lr.fit(train_X, train_y)\n",
    "# lr.predict_prob(test_X)\n",
    "result = lr.predict(test_X)\n",
    "np.sum((result == test_y)/len(test_y))"
   ]
  },
  {
   "cell_type": "code",
   "execution_count": 26,
   "id": "37731cd8",
   "metadata": {},
   "outputs": [
    {
     "data": {
      "image/png": "[encoded data removed]",
      "text/plain": [
       "<Figure size 432x288 with 1 Axes>"
      ]
     },
     "metadata": {
      "needs_background": "light"
     },
     "output_type": "display_data"
    }
   ],
   "source": [
    "import matplotlib as mpl\n",
    "import matplotlib.pyplot as plt\n",
    "\n",
    "plt.plot(result, 'ro', ms=15, label='prediction') # ms -> marker size\n",
    "plt.plot(test_y.values, 'go', label='true')\n",
    "plt.title(\"Logistic Regression\")\n",
    "plt.xlabel('index')\n",
    "plt.ylabel('species')\n",
    "plt.legend()\n",
    "plt.show()"
   ]
  },
  {
   "cell_type": "code",
   "execution_count": 27,
   "id": "49890100",
   "metadata": {},
   "outputs": [
    {
     "data": {
      "text/plain": [
       "[<matplotlib.lines.Line2D at 0x7fb5b6a0f1c0>]"
      ]
     },
     "execution_count": 27,
     "metadata": {},
     "output_type": "execute_result"
    },
    {
     "data": {
      "image/png": "[encoded data removed]",
      "text/plain": [
       "<Figure size 432x288 with 1 Axes>"
      ]
     },
     "metadata": {
      "needs_background": "light"
     },
     "output_type": "display_data"
    }
   ],
   "source": [
    "plt.plot(range(1,lr.times+1), lr.loss_, 'go-') # gradually reduce to 0"
   ]
  },
  {
   "cell_type": "code",
   "execution_count": null,
   "id": "7c86188f",
   "metadata": {},
   "outputs": [],
   "source": []
  }
 ],
 "metadata": {
  "kernelspec": {
   "display_name": "Python 3 (ipykernel)",
   "language": "python",
   "name": "python3"
  },
  "language_info": {
   "codemirror_mode": {
    "name": "ipython",
    "version": 3
   },
   "file_extension": ".py",
   "mimetype": "text/x-python",
   "name": "python",
   "nbconvert_exporter": "python",
   "pygments_lexer": "ipython3",
   "version": "3.9.12"
  }
 },
 "nbformat": 4,
 "nbformat_minor": 5
}
