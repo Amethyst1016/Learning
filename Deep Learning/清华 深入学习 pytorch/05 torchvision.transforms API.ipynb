{
 "cells": [
  {
   "cell_type": "code",
   "execution_count": 8,
   "id": "9f197591",
   "metadata": {},
   "outputs": [
    {
     "name": "stdout",
     "output_type": "stream",
     "text": [
      "[[[ 45 173  11]\n",
      "  [123 110  62]]\n",
      "\n",
      " [[229 202  63]\n",
      "  [145 167  49]]] (2, 2, 3)\n"
     ]
    }
   ],
   "source": [
    "from torchvision import transforms\n",
    "import numpy as np\n",
    "\n",
    "data = np.random.randint(0, 255, size=12)\n",
    "img = data.reshape(2,2,3)\n",
    "print(img, img.shape)"
   ]
  },
  {
   "cell_type": "code",
   "execution_count": 9,
   "id": "57526efa",
   "metadata": {},
   "outputs": [
    {
     "name": "stdout",
     "output_type": "stream",
     "text": [
      "tensor([[[ 45, 123],\n",
      "         [229, 145]],\n",
      "\n",
      "        [[173, 110],\n",
      "         [202, 167]],\n",
      "\n",
      "        [[ 11,  62],\n",
      "         [ 63,  49]]], dtype=torch.int32) torch.Size([3, 2, 2])\n"
     ]
    }
   ],
   "source": [
    "img_tensor = transforms.ToTensor()(img)\n",
    "print(img_tensor, img_tensor.shape)"
   ]
  },
  {
   "cell_type": "code",
   "execution_count": 16,
   "id": "e541cb4a",
   "metadata": {
    "scrolled": true
   },
   "outputs": [
    {
     "name": "stdout",
     "output_type": "stream",
     "text": [
      "tensor([[[ 35., 113.],\n",
      "         [219., 135.]],\n",
      "\n",
      "        [[163., 100.],\n",
      "         [192., 157.]],\n",
      "\n",
      "        [[  1.,  52.],\n",
      "         [ 53.,  39.]]])\n"
     ]
    }
   ],
   "source": [
    "import torch\n",
    "\n",
    "img_tensor = img_tensor.float()\n",
    "norm_img = transforms.Normalize((10,10,10), (1,1,1))(img_tensor) # (mean, std) same shape as channel\n",
    "print(norm_img)"
   ]
  },
  {
   "cell_type": "code",
   "execution_count": null,
   "id": "619408f5",
   "metadata": {},
   "outputs": [],
   "source": [
    "transforms.Compose([\n",
    "    transforms.ToTensor(),\n",
    "    transforms.Normalize(mean, std)\n",
    "])"
   ]
  }
 ],
 "metadata": {
  "kernelspec": {
   "display_name": "Python 3 (ipykernel)",
   "language": "python",
   "name": "python3"
  },
  "language_info": {
   "codemirror_mode": {
    "name": "ipython",
    "version": 3
   },
   "file_extension": ".py",
   "mimetype": "text/x-python",
   "name": "python",
   "nbconvert_exporter": "python",
   "pygments_lexer": "ipython3",
   "version": "3.9.13"
  }
 },
 "nbformat": 4,
 "nbformat_minor": 5
}
