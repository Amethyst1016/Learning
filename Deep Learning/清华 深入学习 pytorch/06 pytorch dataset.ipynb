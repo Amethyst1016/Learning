{
 "cells": [
  {
   "cell_type": "markdown",
   "id": "cc813477",
   "metadata": {},
   "source": [
    "### torchvision - imgae\n",
    "### torchtext - text"
   ]
  },
  {
   "cell_type": "code",
   "execution_count": 1,
   "id": "1cd25797",
   "metadata": {},
   "outputs": [],
   "source": [
    "import torchvision\n",
    "from torchvision.datasets import MNIST\n",
    "from torchvision.transforms import Compose, ToTensor, Normalize\n",
    "from torch.utils.data import DataLoader\n",
    "\n",
    "BATCH_SIZE = 128\n",
    "\n",
    "def get_dataloader(train=True): # train or test\n",
    "    transform_fn = Compose([\n",
    "        ToTensor(),\n",
    "        Normalize(mean=(0.1307,), std=(0.3081,))\n",
    "    ])\n",
    "\n",
    "    # 1. load data\n",
    "    dataset = MNIST(root='./data', train=train, download=False, transform=transform_fn)\n",
    "    data_loader = DataLoader(dataset, batch_size=BATCH_SIZE, shuffle=True)\n",
    "    return data_loader\n",
    "\n",
    "# for i in enumerate(get_dataloader()):\n",
    "#     print(i)"
   ]
  },
  {
   "attachments": {
    "image.png": {
     "image/png": "[encoded data removed]"
    }
   },
   "cell_type": "markdown",
   "id": "25ef341c",
   "metadata": {},
   "source": [
    "![image.png](attachment:image.png)"
   ]
  },
  {
   "cell_type": "markdown",
   "id": "b7038297",
   "metadata": {},
   "source": [
    "**original data:** [batch_size, 1, 28, 28]\n",
    "<br>**input layer (change to):** [batch_size, 28\\*28] (28\\*28 pixels for each image)\n",
    "<br>**first complete layer output:** [batch_size, 28] (28 rows in each image)\n",
    "<br>**second complete layer output:** [batch_size, 10] (10 digits)"
   ]
  },
  {
   "cell_type": "code",
   "execution_count": 2,
   "id": "19576ebb",
   "metadata": {},
   "outputs": [],
   "source": [
    "import torch\n",
    "import torch.nn as nn\n",
    "import torch.nn.functional as F\n",
    "\n",
    "# create model\n",
    "class MnistModel(nn.Module):\n",
    "    def __init__(self):\n",
    "        super(MnistModel, self).__init__()\n",
    "        self.fc1 = nn.Linear(1*28*28, 28)\n",
    "        self.fc2 = nn.Linear(28, 10)\n",
    "    def forward(self, Input):\n",
    "        # change shape\n",
    "        x = Input.view([-1, 1*28*28]) # or input.view([input.size(0), 1*28*28])\n",
    "        # conduct full-connect\n",
    "        x = self.fc1(x)\n",
    "        # activate function, does not change shape\n",
    "        x = F.relu(x)\n",
    "        # output\n",
    "        out = self.fc2(x) # predict value\n",
    "        # loss function, cannot use sigmoid since this is not a binary classification\n",
    "        return F.log_softmax(out, dim=-1)"
   ]
  },
  {
   "cell_type": "code",
   "execution_count": 3,
   "id": "057ca245",
   "metadata": {},
   "outputs": [],
   "source": [
    "from torch.optim import Adam\n",
    "import os\n",
    "\n",
    "model = MnistModel()\n",
    "optimizer = Adam(model.parameters(), lr=0.001)\n",
    "if os.path.exists('./model/MNIST_model.pkl'):\n",
    "    # load model\n",
    "    model.load_state_dict(torch.load('./model/MNIST_model.pkl'))\n",
    "    # load optimizer\n",
    "    optimizer.load_state_dict(torch.load('./model/MNIST_optimizer.pkl'))\n",
    "\n",
    "def train(epoch):\n",
    "    data_loader = get_dataloader() # training data\n",
    "    for idx, (Input, target) in enumerate(data_loader):\n",
    "        optimizer.zero_grad()\n",
    "        predict = model(Input)\n",
    "        loss = F.nll_loss(predict, target) # cross entropy loss\n",
    "        loss.backward()\n",
    "        optimizer.step()\n",
    "        if idx%100 == 0:\n",
    "            print(epoch, idx, loss.item())\n",
    "        ##save model\n",
    "        if idx%100 == 0:\n",
    "            # 1. save model parameters\n",
    "            torch.save(model.state_dict(), './model/MNIST_model.pkl')\n",
    "            # 2, save optimizer\n",
    "            torch.save(optimizer.state_dict(), './model/MNIST_optimizer.pkl')"
   ]
  },
  {
   "cell_type": "code",
   "execution_count": 4,
   "id": "8e24ec52",
   "metadata": {},
   "outputs": [
    {
     "name": "stdout",
     "output_type": "stream",
     "text": [
      "0 0 2.291532278060913\n",
      "0 100 0.44623640179634094\n",
      "0 200 0.3220866918563843\n",
      "0 300 0.26467859745025635\n",
      "0 400 0.2158871740102768\n",
      "1 0 0.24988064169883728\n",
      "1 100 0.29647529125213623\n",
      "1 200 0.1639454960823059\n",
      "1 300 0.20270989835262299\n",
      "1 400 0.12183594703674316\n",
      "2 0 0.22746887803077698\n",
      "2 100 0.17335422337055206\n",
      "2 200 0.2377059906721115\n",
      "2 300 0.15283042192459106\n",
      "2 400 0.1907428503036499\n"
     ]
    }
   ],
   "source": [
    "for i in range(3):\n",
    "    train(i)"
   ]
  },
  {
   "cell_type": "code",
   "execution_count": 5,
   "id": "fa40bd9d",
   "metadata": {},
   "outputs": [
    {
     "name": "stdout",
     "output_type": "stream",
     "text": [
      "0 0 0.2586457431316376\n",
      "0 100 0.11017020791769028\n",
      "0 200 0.08787909150123596\n",
      "0 300 0.15802842378616333\n",
      "0 400 0.1623450219631195\n",
      "1 0 0.14528661966323853\n",
      "1 100 0.15228904783725739\n",
      "1 200 0.05206620693206787\n",
      "1 300 0.13837866485118866\n",
      "1 400 0.07677438855171204\n",
      "2 0 0.22036448121070862\n",
      "2 100 0.11899016797542572\n",
      "2 200 0.1041368618607521\n",
      "2 300 0.14468631148338318\n",
      "2 400 0.0886652022600174\n"
     ]
    }
   ],
   "source": [
    "# using loaded model and optimizer\n",
    "for i in range(3):\n",
    "    train(i)\n",
    "# better result"
   ]
  },
  {
   "cell_type": "markdown",
   "id": "3b8ff605",
   "metadata": {},
   "source": [
    "### model evaluation (loss and accuracy)"
   ]
  },
  {
   "cell_type": "code",
   "execution_count": 7,
   "id": "667f9a05",
   "metadata": {},
   "outputs": [],
   "source": [
    "import numpy as np\n",
    "\n",
    "def test():\n",
    "    test_dataloader = get_dataloader(False)\n",
    "    loss_list = []\n",
    "    acc_list = []\n",
    "    for idx, (Input, target) in enumerate(test_dataloader):\n",
    "        with torch.no_grad():\n",
    "            # get predict value\n",
    "            predict = model(Input) # [batch_size, 10]\n",
    "            # calculate loss\n",
    "            cur_loss = F.nll_loss(predict, target)\n",
    "            # calculate accuracy, predict size [batch_size, 10], target size [batch_size]\n",
    "            pred = predict.max(dim=-1)[-1] # max in each row, predict label\n",
    "            cur_acc = pred.eq(target).float().mean()\n",
    "            # add to storing list\n",
    "            loss_list.append(cur_loss)\n",
    "            acc_list.append(cur_acc)\n",
    "    print(f'mean accuracy: {np.mean(acc_list)}, mean loss: {np.mean(loss_list)}')"
   ]
  },
  {
   "cell_type": "code",
   "execution_count": 8,
   "id": "6b677a17",
   "metadata": {},
   "outputs": [
    {
     "name": "stdout",
     "output_type": "stream",
     "text": [
      "mean accuracy: 0.9592563509941101, mean loss: 0.13311269879341125\n"
     ]
    }
   ],
   "source": [
    "test()"
   ]
  },
  {
   "cell_type": "code",
   "execution_count": null,
   "id": "1cb33301",
   "metadata": {},
   "outputs": [],
   "source": []
  }
 ],
 "metadata": {
  "kernelspec": {
   "display_name": "Python 3 (ipykernel)",
   "language": "python",
   "name": "python3"
  },
  "language_info": {
   "codemirror_mode": {
    "name": "ipython",
    "version": 3
   },
   "file_extension": ".py",
   "mimetype": "text/x-python",
   "name": "python",
   "nbconvert_exporter": "python",
   "pygments_lexer": "ipython3",
   "version": "3.9.13"
  }
 },
 "nbformat": 4,
 "nbformat_minor": 5
}
