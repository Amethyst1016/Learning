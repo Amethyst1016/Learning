{
 "cells": [
  {
   "cell_type": "code",
   "execution_count": 20,
   "id": "4281a1df",
   "metadata": {},
   "outputs": [],
   "source": [
    "from torch import nn\n",
    "import torch\n",
    "from torch.optim import SGD\n",
    "\n",
    "device = torch.device('cuda' if torch.cuda.is_available() else 'cpu')"
   ]
  },
  {
   "cell_type": "code",
   "execution_count": 25,
   "id": "bd44d331",
   "metadata": {},
   "outputs": [],
   "source": [
    "x = torch.rand([500,1])\n",
    "x = x.to(device)\n",
    "y = 3*x + 0.8"
   ]
  },
  {
   "cell_type": "code",
   "execution_count": 26,
   "id": "bc5c656c",
   "metadata": {},
   "outputs": [],
   "source": [
    "class Lr(nn.Module):\n",
    "    def __init__(self):\n",
    "        super(Lr, self).__init__() # inheritance init function\n",
    "        self.linear = nn.Linear(1,1) # number of input feature, number of output feature\n",
    "    def forward(self, x): # forward calculation\n",
    "        out = self.linear(x)\n",
    "        return out"
   ]
  },
  {
   "cell_type": "code",
   "execution_count": 27,
   "id": "632663cb",
   "metadata": {},
   "outputs": [],
   "source": [
    "model = Lr().to(device)\n",
    "optimizer = SGD(model.parameters(), 0.001)\n",
    "loss_fn = nn.MSELoss()"
   ]
  },
  {
   "cell_type": "code",
   "execution_count": 29,
   "id": "8c8d16ac",
   "metadata": {},
   "outputs": [
    {
     "name": "stdout",
     "output_type": "stream",
     "text": [
      "loss: 0.057669661939144135 w: 2.1656694412231445 b: 1.2553502321243286\n",
      "loss: 0.05479913577437401 w: 2.1867003440856934 b: 1.2438757419586182\n",
      "loss: 0.052071504294872284 w: 2.207200527191162 b: 1.2326892614364624\n",
      "loss: 0.049479659646749496 w: 2.2271835803985596 b: 1.2217838764190674\n",
      "loss: 0.04701676219701767 w: 2.2466630935668945 b: 1.211153268814087\n",
      "loss: 0.044676557183265686 w: 2.265650749206543 b: 1.200790524482727\n",
      "loss: 0.04245276004076004 w: 2.2841603755950928 b: 1.1906886100769043\n",
      "loss: 0.04033965617418289 w: 2.30220365524292 b: 1.180841326713562\n",
      "loss: 0.03833174332976341 w: 2.319791555404663 b: 1.1712419986724854\n",
      "loss: 0.03642382472753525 w: 2.3369359970092773 b: 1.1618850231170654\n",
      "loss: 0.03461085259914398 w: 2.3536484241485596 b: 1.152763843536377\n",
      "loss: 0.03288809955120087 w: 2.3699398040771484 b: 1.143872618675232\n",
      "loss: 0.03125111386179924 w: 2.3858206272125244 b: 1.1352055072784424\n",
      "loss: 0.02969559282064438 w: 2.401301145553589 b: 1.1267566680908203\n",
      "loss: 0.028217483311891556 w: 2.416391372680664 b: 1.118520736694336\n",
      "loss: 0.026812978088855743 w: 2.431101083755493 b: 1.1104921102523804\n",
      "loss: 0.025478439405560493 w: 2.445439338684082 b: 1.1026664972305298\n",
      "loss: 0.024210233241319656 w: 2.4594173431396484 b: 1.0950379371643066\n",
      "loss: 0.02300521358847618 w: 2.4730422496795654 b: 1.0876015424728394\n",
      "loss: 0.021860143169760704 w: 2.4863240718841553 b: 1.0803524255752563\n",
      "loss: 0.02077208086848259 w: 2.4992709159851074 b: 1.0732860565185547\n",
      "loss: 0.019738122820854187 w: 2.511892318725586 b: 1.066398024559021\n",
      "loss: 0.01875569298863411 w: 2.5241949558258057 b: 1.0596837997436523\n",
      "loss: 0.01782212220132351 w: 2.5361876487731934 b: 1.0531384944915771\n",
      "loss: 0.01693507470190525 w: 2.547877311706543 b: 1.0467580556869507\n"
     ]
    }
   ],
   "source": [
    "for i in range(5000):\n",
    "    # get predict value\n",
    "    y_pred = model(x)\n",
    "    loss = loss_fn(y_pred, y)\n",
    "    # set gradient to 0\n",
    "    optimizer.zero_grad()\n",
    "    # conduct backward propagate\n",
    "    loss.backward()\n",
    "    # update parameters\n",
    "    optimizer.step()\n",
    "    if i%200 == 0:\n",
    "        params = list(model.parameters())\n",
    "        print(f'loss: {loss.item()} w: {params[0].item()} b: {params[1].item()}')\n",
    "        # if want to calculate further on loss (or result from GPU) on cpu, need to cpu().detach ().numpy()"
   ]
  },
  {
   "cell_type": "code",
   "execution_count": null,
   "id": "3d45a5e7",
   "metadata": {},
   "outputs": [],
   "source": []
  }
 ],
 "metadata": {
  "kernelspec": {
   "display_name": "Python 3 (ipykernel)",
   "language": "python",
   "name": "python3"
  },
  "language_info": {
   "codemirror_mode": {
    "name": "ipython",
    "version": 3
   },
   "file_extension": ".py",
   "mimetype": "text/x-python",
   "name": "python",
   "nbconvert_exporter": "python",
   "pygments_lexer": "ipython3",
   "version": "3.9.13"
  }
 },
 "nbformat": 4,
 "nbformat_minor": 5
}
