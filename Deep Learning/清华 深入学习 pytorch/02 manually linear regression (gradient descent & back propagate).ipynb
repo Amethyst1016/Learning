{
 "cells": [
  {
   "cell_type": "code",
   "execution_count": 1,
   "id": "900b0b07",
   "metadata": {},
   "outputs": [],
   "source": [
    "import torch"
   ]
  },
  {
   "cell_type": "markdown",
   "id": "622e0d60",
   "metadata": {},
   "source": [
    "### zi = 3*(xi + 2)^2"
   ]
  },
  {
   "cell_type": "code",
   "execution_count": 24,
   "id": "dd884234",
   "metadata": {},
   "outputs": [
    {
     "name": "stdout",
     "output_type": "stream",
     "text": [
      "tensor([[1., 1.],\n",
      "        [1., 1.]], requires_grad=True)\n"
     ]
    }
   ],
   "source": [
    "x = torch.ones([2,2], requires_grad=True) # will be calculated gradient\n",
    "print(x)"
   ]
  },
  {
   "cell_type": "code",
   "execution_count": 25,
   "id": "1c41db9d",
   "metadata": {},
   "outputs": [
    {
     "name": "stdout",
     "output_type": "stream",
     "text": [
      "tensor([[3., 3.],\n",
      "        [3., 3.]], grad_fn=<AddBackward0>)\n"
     ]
    }
   ],
   "source": [
    "y = x+2\n",
    "print(y)"
   ]
  },
  {
   "cell_type": "code",
   "execution_count": 26,
   "id": "570d49e2",
   "metadata": {},
   "outputs": [
    {
     "name": "stdout",
     "output_type": "stream",
     "text": [
      "tensor([[27., 27.],\n",
      "        [27., 27.]], grad_fn=<MulBackward0>)\n"
     ]
    }
   ],
   "source": [
    "z = 3 * y**2\n",
    "print(z)"
   ]
  },
  {
   "cell_type": "code",
   "execution_count": 27,
   "id": "bb63ae29",
   "metadata": {},
   "outputs": [
    {
     "name": "stdout",
     "output_type": "stream",
     "text": [
      "tensor(27., grad_fn=<MeanBackward0>)\n"
     ]
    }
   ],
   "source": [
    "out = z.mean()\n",
    "print(out)"
   ]
  },
  {
   "cell_type": "markdown",
   "id": "1515d712",
   "metadata": {},
   "source": [
    "### change requires_grad"
   ]
  },
  {
   "cell_type": "code",
   "execution_count": 17,
   "id": "85b1d5cc",
   "metadata": {},
   "outputs": [
    {
     "name": "stdout",
     "output_type": "stream",
     "text": [
      "False\n"
     ]
    }
   ],
   "source": [
    "a = torch.randn(2,2)\n",
    "a = ((a*3)/(a-1))\n",
    "print(a.requires_grad)"
   ]
  },
  {
   "cell_type": "code",
   "execution_count": 18,
   "id": "58fca7e1",
   "metadata": {},
   "outputs": [
    {
     "data": {
      "text/plain": [
       "tensor([[-11.4490,  -4.0364],\n",
       "        [  0.2407,  84.4357]], requires_grad=True)"
      ]
     },
     "execution_count": 18,
     "metadata": {},
     "output_type": "execute_result"
    }
   ],
   "source": [
    "a.requires_grad_(True) # change inplace"
   ]
  },
  {
   "cell_type": "code",
   "execution_count": 19,
   "id": "4d6b770b",
   "metadata": {},
   "outputs": [
    {
     "name": "stdout",
     "output_type": "stream",
     "text": [
      "<SumBackward0 object at 0x7fc5e2a89880>\n"
     ]
    }
   ],
   "source": [
    "b = (a*a).sum()\n",
    "print(b.grad_fn)"
   ]
  },
  {
   "cell_type": "code",
   "execution_count": 20,
   "id": "e12d7df8",
   "metadata": {},
   "outputs": [
    {
     "name": "stdout",
     "output_type": "stream",
     "text": [
      "False\n"
     ]
    }
   ],
   "source": [
    "with torch.no_grad():\n",
    "    c = (a*a).sum() # no grad within with\n",
    "print(c.requires_grad)"
   ]
  },
  {
   "cell_type": "markdown",
   "id": "56d563a8",
   "metadata": {},
   "source": [
    "### calculate gradient"
   ]
  },
  {
   "cell_type": "code",
   "execution_count": 28,
   "id": "79c10d11",
   "metadata": {},
   "outputs": [],
   "source": [
    "out.backward() # conduct back propagate, calculate dout/dx"
   ]
  },
  {
   "cell_type": "code",
   "execution_count": 29,
   "id": "0f0f3900",
   "metadata": {},
   "outputs": [
    {
     "data": {
      "text/plain": [
       "tensor([[4.5000, 4.5000],\n",
       "        [4.5000, 4.5000]])"
      ]
     },
     "execution_count": 29,
     "metadata": {},
     "output_type": "execute_result"
    }
   ],
   "source": [
    "x.grad # cumulative! if back propagated conducted twice, the grad will be twiced\n",
    "# should set gradient to 0 before each time back propagation"
   ]
  },
  {
   "cell_type": "code",
   "execution_count": 36,
   "id": "30ad1c2a",
   "metadata": {
    "scrolled": false
   },
   "outputs": [
    {
     "data": {
      "text/plain": [
       "tensor([[1., 1.],\n",
       "        [1., 1.]], requires_grad=True)"
      ]
     },
     "execution_count": 36,
     "metadata": {},
     "output_type": "execute_result"
    }
   ],
   "source": [
    "x"
   ]
  },
  {
   "cell_type": "code",
   "execution_count": 37,
   "id": "03546408",
   "metadata": {},
   "outputs": [
    {
     "data": {
      "text/plain": [
       "tensor([[1., 1.],\n",
       "        [1., 1.]])"
      ]
     },
     "execution_count": 37,
     "metadata": {},
     "output_type": "execute_result"
    }
   ],
   "source": [
    "x.data # get value only, no attributes such as requires_grad"
   ]
  },
  {
   "cell_type": "code",
   "execution_count": 39,
   "id": "781e580d",
   "metadata": {
    "scrolled": true
   },
   "outputs": [
    {
     "ename": "RuntimeError",
     "evalue": "Can't call numpy() on Tensor that requires grad. Use tensor.detach().numpy() instead.",
     "output_type": "error",
     "traceback": [
      "\u001b[0;31m---------------------------------------------------------------------------\u001b[0m",
      "\u001b[0;31mRuntimeError\u001b[0m                              Traceback (most recent call last)",
      "Input \u001b[0;32mIn [39]\u001b[0m, in \u001b[0;36m<cell line: 1>\u001b[0;34m()\u001b[0m\n\u001b[0;32m----> 1\u001b[0m \u001b[43ma\u001b[49m\u001b[38;5;241;43m.\u001b[39;49m\u001b[43mnumpy\u001b[49m\u001b[43m(\u001b[49m\u001b[43m)\u001b[49m\n",
      "\u001b[0;31mRuntimeError\u001b[0m: Can't call numpy() on Tensor that requires grad. Use tensor.detach().numpy() instead."
     ]
    }
   ],
   "source": [
    "a.numpy() # cannot use numpy() if requires_data = True"
   ]
  },
  {
   "cell_type": "code",
   "execution_count": 40,
   "id": "13e9da8f",
   "metadata": {},
   "outputs": [
    {
     "data": {
      "text/plain": [
       "array([[-11.448992  ,  -4.0363703 ],\n",
       "       [  0.24070679,  84.43568   ]], dtype=float32)"
      ]
     },
     "execution_count": 40,
     "metadata": {},
     "output_type": "execute_result"
    }
   ],
   "source": [
    "a.detach().numpy()"
   ]
  },
  {
   "cell_type": "markdown",
   "id": "7d48e788",
   "metadata": {},
   "source": [
    "### linear regression"
   ]
  },
  {
   "cell_type": "code",
   "execution_count": 54,
   "id": "809770c7",
   "metadata": {},
   "outputs": [
    {
     "name": "stdout",
     "output_type": "stream",
     "text": [
      "w: 0.7559311389923096 b: 0.03534650802612305 loss: 3.4357733726501465\n",
      "w: 0.9497660398483276 b: 1.5347905158996582 loss: 0.2790176272392273\n",
      "w: 1.2070114612579346 b: 1.5912095308303833 loss: 0.19726411998271942\n",
      "w: 1.3867045640945435 b: 1.5256309509277344 loss: 0.16048797965049744\n",
      "w: 1.54421067237854 b: 1.4560186862945557 loss: 0.13076169788837433\n",
      "w: 1.6859631538391113 b: 1.3922501802444458 loss: 0.10654313862323761\n",
      "w: 1.813880443572998 b: 1.334606409072876 loss: 0.08681007474660873\n",
      "w: 1.9293427467346191 b: 1.2825663089752197 loss: 0.0707317441701889\n",
      "w: 2.033564805984497 b: 1.2355916500091553 loss: 0.05763135850429535\n",
      "w: 2.127640962600708 b: 1.1931893825531006 loss: 0.046957384794950485\n",
      "w: 2.212559700012207 b: 1.1549150943756104 loss: 0.03826035559177399\n",
      "w: 2.2892119884490967 b: 1.1203663349151611 loss: 0.03117409534752369\n",
      "w: 2.358402729034424 b: 1.0891804695129395 loss: 0.02540026418864727\n",
      "w: 2.4208579063415527 b: 1.0610307455062866 loss: 0.020695870742201805\n",
      "w: 2.47723388671875 b: 1.0356210470199585 loss: 0.01686272956430912\n",
      "w: 2.5281221866607666 b: 1.0126844644546509 loss: 0.013739543035626411\n",
      "w: 2.574056625366211 b: 0.9919809699058533 loss: 0.011194806545972824\n",
      "w: 2.6155200004577637 b: 0.9732930064201355 loss: 0.009121396578848362\n",
      "w: 2.6529459953308105 b: 0.9564239978790283 loss: 0.00743202306330204\n",
      "w: 2.686729669570923 b: 0.9411967992782593 loss: 0.006055527366697788\n"
     ]
    }
   ],
   "source": [
    "import numpy as np\n",
    "from matplotlib import pyplot as plt\n",
    "\n",
    "# 1. prepare data\n",
    "x = torch.rand([50,1])\n",
    "y = 3*x + 0.8\n",
    "\n",
    "# 2. calculate y_pred\n",
    "w = torch.rand([1,1], requires_grad = True) # initialize w and b\n",
    "b = torch.tensor(0, requires_grad = True, dtype = torch.float32)\n",
    "learning_rate = 0.01\n",
    "\n",
    "# 4. use loop, conduct back propagate\n",
    "for i in range(2000):\n",
    "    # 3. calculate loss, put in the loop since losee is calculated before each back propagate\n",
    "    y_pred = torch.matmul(x,w)+b\n",
    "    loss = ((y - y_pred)**2).mean()\n",
    "    \n",
    "    if w.grad is not None: # make sure gradient is 0 before each back propagate\n",
    "        w.data.zero_()\n",
    "    if b.grad is not None:\n",
    "        b.data.zero_()\n",
    "        \n",
    "    loss.backward() # conduct back propagate\n",
    "    w.data = w.data - learning_rate*w.grad\n",
    "    b.data = b.data - learning_rate*b.grad\n",
    "    if i%100 == 0:\n",
    "        print(f'w: {w.item()} b: {b.item()} loss: {loss}')"
   ]
  },
  {
   "cell_type": "code",
   "execution_count": 55,
   "id": "c4982e02",
   "metadata": {},
   "outputs": [
    {
     "data": {
      "text/plain": [
       "[<matplotlib.lines.Line2D at 0x7fc5e507d100>]"
      ]
     },
     "execution_count": 55,
     "metadata": {},
     "output_type": "execute_result"
    },
    {
     "data": {
      "image/png": "[encoded data removed]",
      "text/plain": [
       "<Figure size 1440x576 with 1 Axes>"
      ]
     },
     "metadata": {
      "needs_background": "light"
     },
     "output_type": "display_data"
    }
   ],
   "source": [
    "plt.figure(figsize=(20,8))\n",
    "plt.scatter(x.numpy().reshape(-1), y.numpy().reshape(-1))\n",
    "plt.plot(x.numpy().reshape(-1), y_pred.detach().numpy().reshape(-1), c='g')"
   ]
  },
  {
   "cell_type": "code",
   "execution_count": 56,
   "id": "47259c2e",
   "metadata": {},
   "outputs": [
    {
     "data": {
      "text/plain": [
       "(tensor([[2.7169]], requires_grad=True), tensor(0.9276, requires_grad=True))"
      ]
     },
     "execution_count": 56,
     "metadata": {},
     "output_type": "execute_result"
    }
   ],
   "source": [
    "w, b # 3, 0.8"
   ]
  },
  {
   "cell_type": "code",
   "execution_count": null,
   "id": "f213f65e",
   "metadata": {},
   "outputs": [],
   "source": []
  }
 ],
 "metadata": {
  "kernelspec": {
   "display_name": "Python 3 (ipykernel)",
   "language": "python",
   "name": "python3"
  },
  "language_info": {
   "codemirror_mode": {
    "name": "ipython",
    "version": 3
   },
   "file_extension": ".py",
   "mimetype": "text/x-python",
   "name": "python",
   "nbconvert_exporter": "python",
   "pygments_lexer": "ipython3",
   "version": "3.9.12"
  }
 },
 "nbformat": 4,
 "nbformat_minor": 5
}
